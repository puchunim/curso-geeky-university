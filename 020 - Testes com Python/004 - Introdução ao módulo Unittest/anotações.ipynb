{
 "cells": [
  {
   "cell_type": "markdown",
   "metadata": {},
   "source": [
    "<style>h1 {color: yellow; text-shadow: 2px 2px black;}\n",
    "h3 {color: aquamarine; text-shadow: 2px 2px black;}\n",
    "</style>\n",
    "# Introdução ao módulo Unittest\n",
    "\n",
    "### Unittest -> Testes Unitários\n",
    "### O que é um teste unitário?\n",
    "### R: `É a forma de se testar unidades individuais de código fonte, como funções, métodos, classes, módulos, etc..`\n"
   ]
  }
 ],
 "metadata": {
  "language_info": {
   "name": "python"
  },
  "orig_nbformat": 4
 },
 "nbformat": 4,
 "nbformat_minor": 2
}
