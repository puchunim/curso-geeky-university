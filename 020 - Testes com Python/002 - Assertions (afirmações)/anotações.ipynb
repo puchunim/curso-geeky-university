{
 "cells": [
  {
   "cell_type": "markdown",
   "source": [
    "# Assertions (afirmações - questionamentos)\n",
    "\n",
    "## Em Python, utilizamos a palavra reservada \"assert\" para realizar simples afirmações, usadas em testes.\n",
    "\n",
    "## Utilizamos o \"assert\" em uma expressão que queremos checar se é válida ou não.\n",
    "- ## Caso a expressão for verdadeira, retorna None.\n",
    "- ## Caso seja falsa, levanta uma exceção AssertionError.\n",
    "## # OBS: Podemos especificar também, opcionalmente, um segundo argumento ou uma mensagem de erro personalizada.\n",
    "## # OBS²: Podemos utilizar \"assert\" em diferentes partes do código, não limitando-se apenas aos testes."
   ],
   "metadata": {}
  },
  {
   "cell_type": "code",
   "execution_count": null,
   "source": [
    "assert 4 == 4 # Eu afirmo que 4 é igual a 4! (None)\n",
    "assert 4 == 2 # Eu afirmo que 4 é igual a 2! (AssertionError)"
   ],
   "outputs": [],
   "metadata": {}
  },
  {
   "cell_type": "code",
   "execution_count": 3,
   "source": [
    "def soma_posi(a, b):\n",
    "    \"\"\"\n",
    "    Função para somar dois números positivos\n",
    "    \"\"\"\n",
    "\n",
    "    assert (a > 0 and b > 0), 'Ambos os números precisam ser positivos'\n",
    "    return a + b\n",
    "\n",
    "print(soma_posi(2, 3)) # 5\n",
    "print(soma_posi(-2, 3)) # AssertionError\n"
   ],
   "outputs": [
    {
     "output_type": "stream",
     "name": "stdout",
     "text": [
      "5\n"
     ]
    },
    {
     "output_type": "error",
     "ename": "AssertionError",
     "evalue": "Ambos os números precisam ser positivos",
     "traceback": [
      "\u001b[0;31m---------------------------------------------------------------------------\u001b[0m",
      "\u001b[0;31mAssertionError\u001b[0m                            Traceback (most recent call last)",
      "\u001b[0;32m/tmp/ipykernel_74479/1360710906.py\u001b[0m in \u001b[0;36m<module>\u001b[0;34m\u001b[0m\n\u001b[1;32m      8\u001b[0m \u001b[0;34m\u001b[0m\u001b[0m\n\u001b[1;32m      9\u001b[0m \u001b[0mprint\u001b[0m\u001b[0;34m(\u001b[0m\u001b[0msoma_posi\u001b[0m\u001b[0;34m(\u001b[0m\u001b[0;36m2\u001b[0m\u001b[0;34m,\u001b[0m \u001b[0;36m3\u001b[0m\u001b[0;34m)\u001b[0m\u001b[0;34m)\u001b[0m \u001b[0;31m# 5\u001b[0m\u001b[0;34m\u001b[0m\u001b[0;34m\u001b[0m\u001b[0m\n\u001b[0;32m---> 10\u001b[0;31m \u001b[0mprint\u001b[0m\u001b[0;34m(\u001b[0m\u001b[0msoma_posi\u001b[0m\u001b[0;34m(\u001b[0m\u001b[0;34m-\u001b[0m\u001b[0;36m2\u001b[0m\u001b[0;34m,\u001b[0m \u001b[0;36m3\u001b[0m\u001b[0;34m)\u001b[0m\u001b[0;34m)\u001b[0m \u001b[0;31m# AssertionError\u001b[0m\u001b[0;34m\u001b[0m\u001b[0;34m\u001b[0m\u001b[0m\n\u001b[0m",
      "\u001b[0;32m/tmp/ipykernel_74479/1360710906.py\u001b[0m in \u001b[0;36msoma_posi\u001b[0;34m(a, b)\u001b[0m\n\u001b[1;32m      4\u001b[0m     \"\"\"\n\u001b[1;32m      5\u001b[0m \u001b[0;34m\u001b[0m\u001b[0m\n\u001b[0;32m----> 6\u001b[0;31m     \u001b[0;32massert\u001b[0m \u001b[0;34m(\u001b[0m\u001b[0ma\u001b[0m \u001b[0;34m>\u001b[0m \u001b[0;36m0\u001b[0m \u001b[0;32mand\u001b[0m \u001b[0mb\u001b[0m \u001b[0;34m>\u001b[0m \u001b[0;36m0\u001b[0m\u001b[0;34m)\u001b[0m\u001b[0;34m,\u001b[0m \u001b[0;34m'Ambos os números precisam ser positivos'\u001b[0m\u001b[0;34m\u001b[0m\u001b[0;34m\u001b[0m\u001b[0m\n\u001b[0m\u001b[1;32m      7\u001b[0m     \u001b[0;32mreturn\u001b[0m \u001b[0ma\u001b[0m \u001b[0;34m+\u001b[0m \u001b[0mb\u001b[0m\u001b[0;34m\u001b[0m\u001b[0;34m\u001b[0m\u001b[0m\n\u001b[1;32m      8\u001b[0m \u001b[0;34m\u001b[0m\u001b[0m\n",
      "\u001b[0;31mAssertionError\u001b[0m: Ambos os números precisam ser positivos"
     ]
    }
   ],
   "metadata": {}
  },
  {
   "cell_type": "code",
   "execution_count": 4,
   "source": [
    "def comer_fast_food(comida):\n",
    "    comidas = [\n",
    "        \"pizza\", \"sorvete\", \"doces\",\n",
    "        \"batata frita\", \"cachorro quente\"\n",
    "    ]\n",
    "    assert (comida in comidas), f\"A comida {comida} não está em {comidas}\"\n",
    "    return f\"Estou comendo {comida}!\"\n",
    "\n",
    "print(comer_fast_food(\"sorvete\")) # Estou comendo sorvete!\n",
    "print(comer_fast_food(\"dollynho fds\")) # AssertionError"
   ],
   "outputs": [
    {
     "output_type": "stream",
     "name": "stdout",
     "text": [
      "Estou comendo sorvete!\n"
     ]
    },
    {
     "output_type": "error",
     "ename": "AssertionError",
     "evalue": "A comida dollynho fds não está em ['pizza', 'sorvete', 'doces', 'batata frita', 'cachorro quente']",
     "traceback": [
      "\u001b[0;31m---------------------------------------------------------------------------\u001b[0m",
      "\u001b[0;31mAssertionError\u001b[0m                            Traceback (most recent call last)",
      "\u001b[0;32m/tmp/ipykernel_74479/4149801242.py\u001b[0m in \u001b[0;36m<module>\u001b[0;34m\u001b[0m\n\u001b[1;32m      8\u001b[0m \u001b[0;34m\u001b[0m\u001b[0m\n\u001b[1;32m      9\u001b[0m \u001b[0mprint\u001b[0m\u001b[0;34m(\u001b[0m\u001b[0mcomer_fast_food\u001b[0m\u001b[0;34m(\u001b[0m\u001b[0;34m\"sorvete\"\u001b[0m\u001b[0;34m)\u001b[0m\u001b[0;34m)\u001b[0m \u001b[0;31m# Estou comendo sorvete!\u001b[0m\u001b[0;34m\u001b[0m\u001b[0;34m\u001b[0m\u001b[0m\n\u001b[0;32m---> 10\u001b[0;31m \u001b[0mprint\u001b[0m\u001b[0;34m(\u001b[0m\u001b[0mcomer_fast_food\u001b[0m\u001b[0;34m(\u001b[0m\u001b[0;34m\"dollynho fds\"\u001b[0m\u001b[0;34m)\u001b[0m\u001b[0;34m)\u001b[0m \u001b[0;31m# AssertionError\u001b[0m\u001b[0;34m\u001b[0m\u001b[0;34m\u001b[0m\u001b[0m\n\u001b[0m",
      "\u001b[0;32m/tmp/ipykernel_74479/4149801242.py\u001b[0m in \u001b[0;36mcomer_fast_food\u001b[0;34m(comida)\u001b[0m\n\u001b[1;32m      4\u001b[0m         \u001b[0;34m\"batata frita\"\u001b[0m\u001b[0;34m,\u001b[0m \u001b[0;34m\"cachorro quente\"\u001b[0m\u001b[0;34m\u001b[0m\u001b[0;34m\u001b[0m\u001b[0m\n\u001b[1;32m      5\u001b[0m     ]\n\u001b[0;32m----> 6\u001b[0;31m     \u001b[0;32massert\u001b[0m \u001b[0;34m(\u001b[0m\u001b[0mcomida\u001b[0m \u001b[0;32min\u001b[0m \u001b[0mcomidas\u001b[0m\u001b[0;34m)\u001b[0m\u001b[0;34m,\u001b[0m \u001b[0;34mf\"A comida {comida} não está em {comidas}\"\u001b[0m\u001b[0;34m\u001b[0m\u001b[0;34m\u001b[0m\u001b[0m\n\u001b[0m\u001b[1;32m      7\u001b[0m     \u001b[0;32mreturn\u001b[0m \u001b[0;34mf\"Estou comendo {comida}!\"\u001b[0m\u001b[0;34m\u001b[0m\u001b[0;34m\u001b[0m\u001b[0m\n\u001b[1;32m      8\u001b[0m \u001b[0;34m\u001b[0m\u001b[0m\n",
      "\u001b[0;31mAssertionError\u001b[0m: A comida dollynho fds não está em ['pizza', 'sorvete', 'doces', 'batata frita', 'cachorro quente']"
     ]
    }
   ],
   "metadata": {}
  },
  {
   "cell_type": "markdown",
   "source": [
    "## ALERTA!\n",
    "\n",
    "## Se um programa Python for executado com o parâmetro -O, nenhum assertion\n",
    "## será validado. Todos serão ignorados."
   ],
   "metadata": {}
  }
 ],
 "metadata": {
  "orig_nbformat": 4,
  "language_info": {
   "name": "python",
   "version": "3.8.10",
   "mimetype": "text/x-python",
   "codemirror_mode": {
    "name": "ipython",
    "version": 3
   },
   "pygments_lexer": "ipython3",
   "nbconvert_exporter": "python",
   "file_extension": ".py"
  },
  "kernelspec": {
   "name": "python3",
   "display_name": "Python 3.8.10 64-bit"
  },
  "interpreter": {
   "hash": "31f2aee4e71d21fbe5cf8b01ff0e069b9275f58929596ceb00d14d90e3e16cd6"
  }
 },
 "nbformat": 4,
 "nbformat_minor": 2
}