{
 "cells": [
  {
   "cell_type": "markdown",
   "source": [
    "# Por que testar nosso código?"
   ],
   "metadata": {}
  },
  {
   "cell_type": "code",
   "execution_count": 1,
   "source": [
    "class Gato:\n",
    "    def __init__(self, nome):\n",
    "        self.__nome = nome\n",
    "    \n",
    "    @property\n",
    "    def nome(self):\n",
    "        return self.__nome\n",
    "    \n",
    "    def miar(self):\n",
    "        print(f\"{self.__nome} está miando..\")\n",
    "\n",
    "# Testando manualmente\n",
    "pururu = Gato(\"Bugatinha\")\n",
    "pururu.miar()\n",
    "print(pururu.nome)"
   ],
   "outputs": [
    {
     "output_type": "stream",
     "name": "stdout",
     "text": [
      "Bugatinha está miando..\n",
      "Bugatinha\n"
     ]
    }
   ],
   "metadata": {}
  },
  {
   "cell_type": "markdown",
   "source": [
    "## Até agora, todos os códigos que fiz foram testados manualmente por mim, como o código acima foi testado. Porém, o Python disponibiliza ferramentas para testes automáticos.\n",
    "\n",
    "## Mas a pergunta que não quer calar: por que testar nossos códigos?\n",
    "- ## Reduzir bugs existentes.\n",
    "- ## Testes garantem que novos recursos da sua aplicação não quebrem os antigos.\n",
    "- ## Garantem que bugs que foram corrigidos anteriormente continuem corrigidos.\n",
    "- ## Garantem que a refatoração não traga novos bugs.\n",
    "\n",
    "## Uma das vertentes desses sistemas de escrita de código para teste é o TDD (Desenvolvimento Guiado por Testes), onde:\n",
    "- ## Você escreve seu teste primeiro.\n",
    "- ## Então você escreve o código mínimo suficiente para fazer o teste passar (ou seja, executar sem erros).\n",
    "- ## Então refatora o código para realizar a funcionalidade e testar novamente.\n",
    "- ## Uma vez que o teste passe, o recurso é considerado completo."
   ],
   "metadata": {}
  }
 ],
 "metadata": {
  "orig_nbformat": 4,
  "language_info": {
   "name": "python",
   "version": "3.8.10",
   "mimetype": "text/x-python",
   "codemirror_mode": {
    "name": "ipython",
    "version": 3
   },
   "pygments_lexer": "ipython3",
   "nbconvert_exporter": "python",
   "file_extension": ".py"
  },
  "kernelspec": {
   "name": "python3",
   "display_name": "Python 3.8.10 64-bit"
  },
  "interpreter": {
   "hash": "31f2aee4e71d21fbe5cf8b01ff0e069b9275f58929596ceb00d14d90e3e16cd6"
  }
 },
 "nbformat": 4,
 "nbformat_minor": 2
}