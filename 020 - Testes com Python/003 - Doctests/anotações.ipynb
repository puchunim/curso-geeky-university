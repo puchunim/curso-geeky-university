{
 "cells": [
  {
   "cell_type": "markdown",
   "source": [
    "# Doctests"
   ],
   "metadata": {}
  },
  {
   "cell_type": "code",
   "execution_count": 1,
   "source": [
    "def soma(a, b):\n",
    "    \"\"\"soma os números 'a' e 'b'\n",
    "    \n",
    "    >>> soma(1, 3)\n",
    "    4\n",
    "    \"\"\"\n",
    "\n",
    "    return a + b"
   ],
   "outputs": [],
   "metadata": {}
  },
  {
   "cell_type": "markdown",
   "source": [
    "## Com os doctests, podemos colocar testes para funções direto na docstring, como no exemplo acima.\n",
    "## Usamos <sz style=\"color: yellow;\">python -m doctest -v arquivo.py</sz> para rodar todos os doctests de um arquivo."
   ],
   "metadata": {}
  },
  {
   "cell_type": "code",
   "execution_count": null,
   "source": [
    "def sub(a, b):\n",
    "    \"\"\"subtrai 'a' por 'b'\n",
    "\n",
    "    >>> sub(2, 3)\n",
    "    3\n",
    "    \"\"\"\n",
    "\n",
    "    return a - b\n",
    "# O teste acima falharia, já que 2 - 3 != 3"
   ],
   "outputs": [],
   "metadata": {}
  }
 ],
 "metadata": {
  "orig_nbformat": 4,
  "language_info": {
   "name": "python",
   "version": "3.8.10",
   "mimetype": "text/x-python",
   "codemirror_mode": {
    "name": "ipython",
    "version": 3
   },
   "pygments_lexer": "ipython3",
   "nbconvert_exporter": "python",
   "file_extension": ".py"
  },
  "kernelspec": {
   "name": "python3",
   "display_name": "Python 3.8.10 64-bit"
  },
  "interpreter": {
   "hash": "31f2aee4e71d21fbe5cf8b01ff0e069b9275f58929596ceb00d14d90e3e16cd6"
  }
 },
 "nbformat": 4,
 "nbformat_minor": 2
}