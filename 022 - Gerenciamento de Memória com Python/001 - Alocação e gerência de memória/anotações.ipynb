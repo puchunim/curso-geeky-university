{
 "cells": [
  {
   "cell_type": "markdown",
   "metadata": {},
   "source": [
    "<style>\n",
    "h1 {text-shadow: 2px 2px Black; color: Yellow;} \n",
    "h2 {text-shadow: 2px 2px Black; color: Aquamarine;} \n",
    "h3 {text-shadow: 2px 2px Black; color: CadetBlue;}\n",
    "</style>\n",
    "\n",
    "# Alocação e gerência de memória\n",
    "![Resumo](resumo.png)\n"
   ]
  }
 ],
 "metadata": {
  "language_info": {
   "name": "python"
  },
  "orig_nbformat": 4
 },
 "nbformat": 4,
 "nbformat_minor": 2
}
