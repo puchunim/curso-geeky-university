{
 "cells": [
  {
   "cell_type": "markdown",
   "metadata": {},
   "source": [
    "<style>\n",
    "h1 {text-shadow: 2px 2px Black; color: Yellow;} \n",
    "h2 {text-shadow: 2px 2px Black; color: Aquamarine;} \n",
    "h3 {text-shadow: 2px 2px Black; color: CadetBlue;}\n",
    "</style>\n",
    "\n",
    "# Python GIL (Global Interpreter Lock)\n",
    "\n",
    "## Exemplo de programa single-thread"
   ]
  },
  {
   "cell_type": "code",
   "execution_count": 3,
   "metadata": {},
   "outputs": [
    {
     "name": "stdout",
     "output_type": "stream",
     "text": [
      "Tempo em segundos: 4.979275226593018\n"
     ]
    }
   ],
   "source": [
    "import time\n",
    "\n",
    "CONTADOR = 50_000_000\n",
    "\n",
    "def contagem_regressiva(n):\n",
    "    while n > 0:\n",
    "        n -= 1\n",
    "\n",
    "ini = time.time()\n",
    "contagem_regressiva(CONTADOR)\n",
    "fim = time.time()\n",
    "print(f\"Tempo em segundos: {fim - ini}\")"
   ]
  },
  {
   "cell_type": "markdown",
   "metadata": {},
   "source": [
    "<style>\n",
    "h1 {text-shadow: 2px 2px Black; color: Yellow;} \n",
    "h2 {text-shadow: 2px 2px Black; color: Aquamarine;} \n",
    "h3 {text-shadow: 2px 2px Black; color: CadetBlue;}\n",
    "</style>\n",
    "\n",
    "## Utilizando multi-thread\n",
    "### Para sabermos a diferença de performance "
   ]
  },
  {
   "cell_type": "code",
   "execution_count": 5,
   "metadata": {},
   "outputs": [
    {
     "name": "stdout",
     "output_type": "stream",
     "text": [
      "Tempo em segundos: 5.246647834777832\n"
     ]
    }
   ],
   "source": [
    "import time # tempo\n",
    "from threading import Thread\n",
    "\n",
    "CONTADOR = 50_000_000 # Número excessivamente grande\n",
    "t1 = Thread(target=contagem_regressiva, args=(CONTADOR//2,)) # Thread 1\n",
    "t2 = Thread(target=contagem_regressiva, args=(CONTADOR//2,)) # Thread 2\n",
    "\n",
    "ini = time.time() # Tempo de início\n",
    "t1.start() # Iniciando thread 1\n",
    "t2.start() # Iniciando thread 2\n",
    "t1.join() # Executando thread 1\n",
    "t2.join() # Executando thread 2\n",
    "fim = time.time() # Término\n",
    "\n",
    "print(f\"Tempo em segundos: {fim - ini}\")"
   ]
  },
  {
   "cell_type": "markdown",
   "metadata": {},
   "source": [
    "### No fim os dois exemplos rodam parecido, tudo culpa do GIL!\n",
    "### Pra isso, podemos usar multiprocessamento ao invés.."
   ]
  },
  {
   "cell_type": "code",
   "execution_count": 6,
   "metadata": {},
   "outputs": [
    {
     "name": "stdout",
     "output_type": "stream",
     "text": [
      "Tempo em segundos: 3.0693020820617676\n"
     ]
    }
   ],
   "source": [
    "from multiprocessing import Pool\n",
    "from time import time\n",
    "\n",
    "CONTADOR = 50_000_000\n",
    "def contagem_regressiva(n):\n",
    "    while n > 0:\n",
    "        n -= 1\n",
    "\n",
    "if __name__ == \"__main__\":\n",
    "    pool = Pool(processes=2)\n",
    "    ini = time()\n",
    "    r1 = pool.apply_async(contagem_regressiva, [CONTADOR//2])\n",
    "    r2 = pool.apply_async(contagem_regressiva, [CONTADOR//2])\n",
    "    pool.close()\n",
    "    pool.join()\n",
    "    fim = time()\n",
    "    print(f\"Tempo em segundos: {fim - ini}\")"
   ]
  }
 ],
 "metadata": {
  "interpreter": {
   "hash": "916dbcbb3f70747c44a77c7bcd40155683ae19c65e1c03b4aa3499c5328201f1"
  },
  "kernelspec": {
   "display_name": "Python 3.9.7 64-bit",
   "language": "python",
   "name": "python3"
  },
  "language_info": {
   "codemirror_mode": {
    "name": "ipython",
    "version": 3
   },
   "file_extension": ".py",
   "mimetype": "text/x-python",
   "name": "python",
   "nbconvert_exporter": "python",
   "pygments_lexer": "ipython3",
   "version": "3.9.7"
  },
  "orig_nbformat": 4
 },
 "nbformat": 4,
 "nbformat_minor": 2
}
