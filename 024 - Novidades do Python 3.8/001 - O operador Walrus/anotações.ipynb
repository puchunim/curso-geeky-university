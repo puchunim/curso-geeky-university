{
 "cells": [
  {
   "cell_type": "markdown",
   "metadata": {},
   "source": [
    "<style>h1 {color: yellow; text-shadow: 2px 2px black;}</style>\n",
    "\n",
    "# O operador Walrus\n",
    "\n",
    "## O operador Walrus é um operador introduzido no Python 3.8 que permite a atribuição e o retorno de valores numa mesma expressão\n",
    "\n",
    "## Sintaxe:\n",
    "### `var := expressão`\n",
    "---\n",
    "\n",
    "## Em Python, estamos acostumados a declarar variáveis e depois printá-las no terminal ou usá-las em qualquer contexto que seja. Com o Walrus, isso pode ser feito na mesma linha.\n",
    "```py\n",
    "print(var := \"Geek University\") # Geek University\n",
    "print(var) # Geek University\n",
    "```"
   ]
  },
  {
   "cell_type": "markdown",
   "metadata": {},
   "source": []
  }
 ],
 "metadata": {
  "language_info": {
   "name": "python"
  },
  "orig_nbformat": 4
 },
 "nbformat": 4,
 "nbformat_minor": 2
}
