{
 "cells": [
  {
   "cell_type": "markdown",
   "metadata": {},
   "source": [
    "<style>h1 {color: yellow; text-shadow: 2px 2px black;}</style>\n",
    "# Funções matemáticas e estatísticas"
   ]
  },
  {
   "cell_type": "code",
   "execution_count": null,
   "metadata": {},
   "outputs": [],
   "source": [
    "import math\n",
    "import statistics\n",
    "\n",
    "# Funções matemáticas\n",
    "# mat.prod - retorna o produto de um container de números\n",
    "nuns = [1, 2, 3, 4, 5]\n",
    "print(math.prod(nuns))\n",
    "\n",
    "# math.isqrt - retorna a raiz quadrada inteira de um número\n",
    "print(math.isqrt(9))\n",
    "\n",
    "# math.dist - retorna a distância euclidiana entre dois pontos, 3D ou 2D\n",
    "\n",
    "# Pontos 3D\n",
    "p3d1 = (1, 2, 3)\n",
    "p3d2 = (4, 5, 6)\n",
    "\n",
    "# Pontos 2D\n",
    "p2d1 = (1, 2)\n",
    "p2d2 = (4, 5)\n",
    "\n",
    "print(math.dist(p3d1, p3d2))\n",
    "print(math.dist(p2d1, p2d2))\n",
    "\n",
    "# math.hypot - retorna a hipotenusa de um triângulo\n",
    "print(math.hypot(*p3d1))\n",
    "\n",
    "# Funções estatísticas\n",
    "# statistics.fmean - retorna a média de um container de números reais\n",
    "\n",
    "valores_reais = [1.34, 2.34, 3.34, 4.34, 5.34]\n",
    "valores_inteiros = [1, 2, 3, 4, 5]\n",
    "print(statistics.fmean(valores_reais))\n",
    "print(statistics.fmean(valores_inteiros))\n",
    "\n",
    "# statistics.geometric_mean - retorna a média geométrica de um container de números reais\n",
    "print(statistics.geometric_mean(valores_reais))\n",
    "print(statistics.geometric_mean(valores_inteiros))\n",
    "\n",
    "# statistics.multimode - retorna o valor mais comum de um container de números\n",
    "seq1 = [1, 2, 3, 4, 5, 6, 7, 8, 9, 10]\n",
    "seq2 = \"Eu sou um robô\"\n",
    "seq3 = [1, 1, 2, 2, 3, 3, 4, 4, 5, 5]\n",
    "print(statistics.multimode(seq1))\n",
    "print(statistics.multimode(seq2))\n",
    "print(statistics.multimode(seq3))"
   ]
  }
 ],
 "metadata": {
  "interpreter": {
   "hash": "916dbcbb3f70747c44a77c7bcd40155683ae19c65e1c03b4aa3499c5328201f1"
  },
  "kernelspec": {
   "display_name": "Python 3.9.7 64-bit",
   "language": "python",
   "name": "python3"
  },
  "language_info": {
   "codemirror_mode": {
    "name": "ipython",
    "version": 3
   },
   "file_extension": ".py",
   "mimetype": "text/x-python",
   "name": "python",
   "nbconvert_exporter": "python",
   "pygments_lexer": "ipython3",
   "version": "3.9.7"
  },
  "orig_nbformat": 4
 },
 "nbformat": 4,
 "nbformat_minor": 2
}
