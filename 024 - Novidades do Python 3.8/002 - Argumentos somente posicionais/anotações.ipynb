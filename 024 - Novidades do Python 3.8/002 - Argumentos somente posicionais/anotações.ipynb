{
 "cells": [
  {
   "cell_type": "markdown",
   "metadata": {},
   "source": [
    "<style>h1 {color: yellow; text-shadow: 2px 2px black;}</style>\n",
    "# Argumentos somente posicionais"
   ]
  }
 ],
 "metadata": {
  "language_info": {
   "name": "python"
  },
  "orig_nbformat": 4
 },
 "nbformat": 4,
 "nbformat_minor": 2
}
