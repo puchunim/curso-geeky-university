{
 "cells": [
  {
   "cell_type": "markdown",
   "metadata": {},
   "source": [
    "<style>h1 {color: yellow; text-shadow: 2px 2px black;}</style>\n",
    "# Debugger mais simples com f-strings\n",
    "\n"
   ]
  },
  {
   "cell_type": "code",
   "execution_count": 5,
   "metadata": {},
   "outputs": [
    {
     "name": "stdout",
     "output_type": "stream",
     "text": [
      "geek = Geek University\n",
      "geek = 'Geek University'\n",
      "geek.upper() = 'GEEK UNIVERSITY'\n"
     ]
    }
   ],
   "source": [
    "geek: str = \"Geek University\"\n",
    "print(f'geek = {geek}')\n",
    "print(f'{geek = }')\n",
    "print(f'{geek.upper() = }')\n",
    "\n"
   ]
  }
 ],
 "metadata": {
  "interpreter": {
   "hash": "916dbcbb3f70747c44a77c7bcd40155683ae19c65e1c03b4aa3499c5328201f1"
  },
  "kernelspec": {
   "display_name": "Python 3.9.7 64-bit",
   "language": "python",
   "name": "python3"
  },
  "language_info": {
   "codemirror_mode": {
    "name": "ipython",
    "version": 3
   },
   "file_extension": ".py",
   "mimetype": "text/x-python",
   "name": "python",
   "nbconvert_exporter": "python",
   "pygments_lexer": "ipython3",
   "version": "3.9.7"
  },
  "orig_nbformat": 4
 },
 "nbformat": 4,
 "nbformat_minor": 2
}
