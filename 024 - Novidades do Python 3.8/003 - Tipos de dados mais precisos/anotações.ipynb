{
 "cells": [
  {
   "cell_type": "markdown",
   "metadata": {},
   "source": [
    "<style>h1 {color: yellow; text-shadow: 2px 2px black;}</style>\n",
    "# Tipos de dados mais precisos\n",
    "\n",
    "## Alguns tipos de dados como [int, str, float, List, Set, Dict] já foram vistos durante o aprendizado do curso. No Python 3.8, novos tipos de dados foram adicionados para diminuir a quantidade de problemas."
   ]
  },
  {
   "cell_type": "code",
   "execution_count": null,
   "metadata": {},
   "outputs": [],
   "source": [
    "from typing import Literal, Union, Final, final, TypedDict, Protocol\n",
    "\n",
    "def pegar_status(status: str) -> Literal['aberto', 'fechado']:\n",
    "    return status\n",
    "\n",
    "# Literal -> String que pode ser apenas 'aberto' ou 'fechado'\n",
    "\n",
    "\n",
    "def soma(num1: int, num2: int) -> Union[int, float]:\n",
    "    return num1 + num2\n",
    "\n",
    "# Union -> Retorno que pode ser int ou float\n",
    "\n",
    "NOME: Final = 'João' # Final -> Não pode ser alterado, uma constante\n",
    "\n",
    "@final\n",
    "def sei_nada() -> None:\n",
    "    pass\n",
    "\n",
    "# final -> Não pode ser sobrescrito, uma função final\n",
    "# para classes, não pode ser herdada, uma classe final\n",
    "\n",
    "class Pessoa(TypedDict):\n",
    "    nome: str\n",
    "    idade: int\n",
    "\n",
    "# TypedDict -> Dicionário com tipos de dados definidos\n",
    "\n",
    "class Curso(Protocol):\n",
    "    nome: str\n",
    "    carga_horaria: int\n",
    "\n",
    "def estudar(curso: Curso) -> None:\n",
    "    print(f'{curso.nome} - {curso.carga_horaria}')\n",
    "\n",
    "# Protocol -> Protocolo de uma classe, não pode ser instanciada, uma classe que implementa um protocolo"
   ]
  }
 ],
 "metadata": {
  "language_info": {
   "name": "python"
  },
  "orig_nbformat": 4
 },
 "nbformat": 4,
 "nbformat_minor": 2
}
