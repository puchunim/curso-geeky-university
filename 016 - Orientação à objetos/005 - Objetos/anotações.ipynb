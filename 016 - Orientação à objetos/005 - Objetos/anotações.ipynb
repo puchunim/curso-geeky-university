{
 "cells": [
  {
   "cell_type": "markdown",
   "source": [
    "# POO - Objetos\n",
    "\n",
    "### Instâncias da classe. Ou seja, após o mapeamento do objeto do mundo real para sua representação computacional, devemos poder criar quantos objetos forem necessários. Podemos pensar nos objetos/instâncias de uma classe como variáveis do tipo definido na classe."
   ],
   "metadata": {}
  },
  {
   "cell_type": "code",
   "execution_count": null,
   "source": [
    "class Lampada:\n",
    "    def __init__(self, cor, voltagem, luminosidade):\n",
    "        self.__cor = cor\n",
    "        self.__voltagem = voltagem\n",
    "        self.__luminosidade = luminosidade\n",
    "        self.__ligada = False\n",
    "        \n",
    "        \n",
    "led = Lampada('vermelho', 110, 60) # Criando uma instância da classe Lampada"
   ],
   "outputs": [],
   "metadata": {}
  }
 ],
 "metadata": {
  "orig_nbformat": 4,
  "language_info": {
   "name": "python"
  }
 },
 "nbformat": 4,
 "nbformat_minor": 2
}