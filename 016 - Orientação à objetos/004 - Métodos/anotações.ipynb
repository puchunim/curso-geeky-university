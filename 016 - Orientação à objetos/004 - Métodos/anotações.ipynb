{
    "cells": [
        {
            "cell_type": "markdown",
            "source": [
                "# POO - Métodos\n",
                "\n",
                "### Métodos (funções ligadas aos objetos): Representam os comportamentos deste objeto. Ou seja, as ações que este pode exercer sobre si e sobre outros elementos de um sistema.\n",
                "\n",
                "### Em Python, dividimos os métodos, assim como os atributos, em 2 grupos:\n",
                "- Métodos de instância, que estão ligados às instâncias da classe, aos objetos.\n",
                "\n",
                "- Métodos de classe, que estão ligados à própria classe em si, não precisando dos objetos para serem usados.\n",
                "\n",
                "\n",
                "# Métodos de instância\n",
                "- OBS: Todo elemento em Python que inicia e finaliza com duplo underline é chamado de dunder (Double Underline)\n",
                "\n",
                "- OBS: Os métodos dunder são chamados de 'métodos mágicos', ou 'métodos integrados'.\n",
                "\n",
                "- OBS: Por mais que possamos criar nossos próprios métodos dunder, não é aconselhado. Por serem métodos integrados, criar novos podem afetar os existentes."
            ],
            "metadata": {}
        },
        {
            "cell_type": "code",
            "execution_count": 3,
            "source": [
                "class Lampada:\n",
                "    def __init__(self, cor, voltagem, luminosidade):\n",
                "        '''\n",
                "        O método __init__ (Dunder Init) é um método de instância, chamado de construtor, pois\n",
                "        sua função é construir o objeto a partir da classe.\n",
                "        '''\n",
                "\n",
                "        # todos os atributos estão privados para aumentar a segurança\n",
                "        self.__cor = cor\n",
                "\n",
                "        self.__voltagem = voltagem\n",
                "        self.__luminosidade = luminosidade\n",
                "        self.__ligada = False\n",
                "        \n",
                "    def interruptor(self):\n",
                "        \"\"\"\n",
                "        Método de instância, usado para desligar ou ligar a lâmpada.\n",
                "        \n",
                "        O método vai trocar self.__ligada pelo inverso dela, ou seja:\n",
                "            Se estiver desligada (False), se torna ligada (True)\n",
                "            Se estiver ligada (True), se torna desligada (False)\n",
                "        \"\"\"\n",
                "        \n",
                "        self.__ligada = not self.__ligada\n"
            ],
            "outputs": [],
            "metadata": {}
        },
        {
            "cell_type": "markdown",
            "source": [
                "### No exemplo acima, o método `interruptor` é um método de instância, já que pra conseguir usá-lo, a classe Lampada precisaria ser instanciada.\n"
            ],
            "metadata": {}
        },
        {
            "cell_type": "code",
            "execution_count": null,
            "source": [
                "led = Lampada('vermelho', 3.5, 100)\n",
                "led.interruptor() # Não poderia ser usado com 'Lampada.interruptor()', por exemplo.."
            ],
            "outputs": [],
            "metadata": {}
        },
        {
            "cell_type": "markdown",
            "source": [
                "# Métodos de classe\n",
                "### Diferente dos métodos de instância, os `métodos de classe` são criados usando o decorador `@classmethod`\n"
            ],
            "metadata": {}
        },
        {
            "cell_type": "code",
            "execution_count": null,
            "source": [
                "class Usuario:\n",
                "    \n",
                "    contador = 0\n",
                "    \n",
                "    @classmethod\n",
                "    def conta_users(cls):\n",
                "        '''\n",
                "        Um método decorado com 'classmethod' só pode ser usado pela classe, todos os atributos\n",
                "        acessados serão de classe, usando a variável 'cls' (que representa a classe).\n",
                "        \n",
                "        O método a seguir é usado para contar e informar quantos usuários existem no sistema.\n",
                "        '''\n",
                "        print(f'Temos {cls.contador} usuários no sistema!')\n",
                "\n",
                "    def __init__(self, nome, sobrenome):\n",
                "        self.__id = Usuario.contador + 1\n",
                "        self.__nome = nome\n",
                "        self.__sobrenome = sobrenome\n",
                "        Usuario.contador = self.id\n",
                "        "
            ],
            "outputs": [],
            "metadata": {}
        },
        {
            "cell_type": "code",
            "execution_count": null,
            "source": [
                "print(Usuario.conta_users()) # Podemos usar o método mesmo sem a instância, já que ele está ligado\n",
                "# à classe"
            ],
            "outputs": [],
            "metadata": {}
        },
        {
            "cell_type": "markdown",
            "source": [
                "# Métodos privados\n",
                "### Assim como quando criamos atributos, podemos adicionar `dunder` antes de um método para torná-lo privado\n"
            ],
            "metadata": {}
        },
        {
            "cell_type": "code",
            "execution_count": null,
            "source": [
                "class Classe:\n",
                "    def __init__(self):\n",
                "        pass\n",
                "    \n",
                "    def __retorna_conta(self):\n",
                "        return 1 + 1\n"
            ],
            "outputs": [],
            "metadata": {}
        },
        {
            "cell_type": "markdown",
            "source": [
                "### O método `__retorna_conta` não pode ser utilizado fora da classe."
            ],
            "metadata": {}
        },
        {
            "cell_type": "markdown",
            "source": [
                "# Métodos estáticos\n",
                "### São muito parecidos com os métodos de classe, com a diferença de que eles não acessam nem à instância e nem à classe a principio. São definidos usando o decorador `@staticmethod`. São mais parecidos com uma função normal, que está encapsulada dentro da classe."
            ],
            "metadata": {}
        }
    ],
    "metadata": {
        "orig_nbformat": 4,
        "language_info": {
            "name": "python"
        }
    },
    "nbformat": 4,
    "nbformat_minor": 2
}