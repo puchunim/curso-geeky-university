{
 "cells": [
  {
   "cell_type": "markdown",
   "source": [
    "# POO - Herança (Inheritance)\n",
    "\n",
    "### A ideia de herança é a de reaproveitar código. Também é a de extender nossas classes. Com a herança, a partir de uma classe existente, nós extendemos outra classe que passa a herdar atributos e métodos da classe herdada.\n",
    "\n",
    "Exemplo:\n",
    "\n",
    "`Estamos desenvolvendo um banco com duas entidades:`\n",
    "\n",
    "    Cliente:\n",
    "        - nome;\n",
    "        - sobrenome;\n",
    "        - cpf;\n",
    "        - renda;\n",
    "\n",
    "    Funcionário:\n",
    "        - nome;\n",
    "        - sobrenome;\n",
    "        - cpf;\n",
    "        - matricula;\n",
    "\n",
    "# Como essas classes seriam criadas SEM a herança?"
   ],
   "metadata": {}
  },
  {
   "cell_type": "code",
   "execution_count": null,
   "source": [
    "class Cliente:\n",
    "    def __init__(self, nome, sobrenome, cpf, renda):\n",
    "        self.__nome = nome\n",
    "        self.__sobrenome = sobrenome\n",
    "        self.__cpf = cpf\n",
    "        self.__renda = renda\n",
    "        \n",
    "    def nome_completo(self):\n",
    "        return f'{self.__nome} {self.__sobrenome}'\n",
    "\n",
    "class Funcionario:\n",
    "    def __init__(self, nome, sobrenome, cpf, matricula):\n",
    "        self.__nome = nome\n",
    "        self.__sobrenome = sobrenome\n",
    "        self.__cpf = cpf\n",
    "        self.__matricula = matricula\n",
    "        \n",
    "    def nome_completo(self):\n",
    "        return f'{self.__nome} {self.__sobrenome}'"
   ],
   "outputs": [],
   "metadata": {}
  },
  {
   "cell_type": "markdown",
   "source": [
    "### Existe alguma entidade genérica o suficiente para encapsular os atributos e métodos comuns a outras entidades?\n",
    "\n",
    "# A resposta é: SIM!"
   ],
   "metadata": {}
  },
  {
   "cell_type": "code",
   "execution_count": null,
   "source": [
    "class Pessoa:\n",
    "    def __init__(self, nome, sobrenome, cpf):\n",
    "        self.__nome = nome\n",
    "        self.__sobrenome = sobrenome\n",
    "        self.__cpf = cpf\n",
    "    \n",
    "    def nome_completo(self):\n",
    "        return f'{self.__nome} {self.__sobrenome}'"
   ],
   "outputs": [],
   "metadata": {}
  },
  {
   "cell_type": "markdown",
   "source": [
    "### Com essa classe genérica, podemos extender as outras duas e gastar menos código."
   ],
   "metadata": {}
  },
  {
   "cell_type": "code",
   "execution_count": null,
   "source": [
    "class Cliente(Pessoa):\n",
    "    def __init__(self, nome, sobrenome, cpf, renda):\n",
    "        super().__init__(nome, sobrenome, cpf)\n",
    "        self.__renda = renda\n",
    "\n",
    "class Funcionario(Pessoa):\n",
    "    def __init__(self, nome, sobrenome, cpf, matricula):\n",
    "        super().__init__(nome, sobrenome, cpf)\n",
    "        self.__matricula = matricula"
   ],
   "outputs": [],
   "metadata": {}
  },
  {
   "cell_type": "markdown",
   "source": [
    "\n",
    "### Quando uma classe é herda de outra classe, a classe herdada é conhecida por:\n",
    "    Classe herdada (no nosso caso é a classe Pessoa)\n",
    "        - Super Classe;\n",
    "        - Classe mãe;\n",
    "        - Classe pai;\n",
    "        - Classe base;\n",
    "        - Classe genérica\n",
    "    \n",
    "### Quando uma classe herda de outra classe, essa é chamada de:\n",
    "    Classe que herdou (no nosso caso são as classes Cliente e Funcionário)\n",
    "        - Subclasse;\n",
    "        - Classe filha;\n",
    "        - Classe específica;\n",
    "    \n",
    "\n",
    "### Usando a função `super()`, a Super Classe (ou classe mãe, classe pai, etc) será retornada. Ela nada mais é do que a classe que foi herdada, nesse caso é a classe Pessoa. Usando a classe retornada, o método `__init__()` dela fica disponível para ser usado. Os dados são preenchidos e assim, elas `herdarão` `TODOS` os atributos e métodos de Pessoa, por isso só adicionamos o que é diferente entre elas."
   ],
   "metadata": {}
  },
  {
   "cell_type": "markdown",
   "source": [
    "# Sobrescrita de métodos (Overriding)\n",
    "### Ocorre quando reescrevemos/reimplementamos um método presente numa superclasse em classes filhas.\n"
   ],
   "metadata": {}
  },
  {
   "cell_type": "code",
   "execution_count": null,
   "source": [
    "class Gerente(Pessoa):\n",
    "    def __init__(self, nome, sobrenome, cpf, id):\n",
    "        super().__init__(nome, sobrenome, cpf)\n",
    "        self.__id = id\n",
    "    \n",
    "    def nome_completo(self):\n",
    "        return f'Nome: {self.__nome} ID: {self.__id}'"
   ],
   "outputs": [],
   "metadata": {}
  },
  {
   "cell_type": "markdown",
   "source": [
    "### O método da classe Pessoa será sobreescrito para a classe Gerente."
   ],
   "metadata": {}
  }
 ],
 "metadata": {
  "orig_nbformat": 4,
  "language_info": {
   "name": "python"
  }
 },
 "nbformat": 4,
 "nbformat_minor": 2
}