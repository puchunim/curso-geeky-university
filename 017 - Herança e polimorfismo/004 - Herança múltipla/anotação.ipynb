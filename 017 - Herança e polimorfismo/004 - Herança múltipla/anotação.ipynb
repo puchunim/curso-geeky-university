{
 "cells": [
  {
   "cell_type": "markdown",
   "source": [
    "# POO - Herança múltipla\n",
    "\n",
    "## É a habilidade de uma classe de herdar elementos de várias outras classes, não só de uma.\n",
    "\n",
    "## `OBS: A herança múltipla pode ser feita de duas maneiras:`\n",
    "- ## Por multiderivação direta;\n",
    "- ## Por multiderivação indireta;\n",
    "\n",
    "---\n",
    "\n",
    "## Mas primeiro, o que é `multiderivação`?\n",
    "- ## **derivação** significa \"vir de\", **multi** significa que a classe atual está vindo de **muitas** outras classes, ou seja.. é **multiderivada**.\n",
    "\n",
    "\n"
   ],
   "metadata": {}
  },
  {
   "cell_type": "code",
   "execution_count": 1,
   "source": [
    "# Exemplo 1 - Multiderivação direta\n",
    "\n",
    "class Base1:\n",
    "    pass\n",
    "\n",
    "\n",
    "class Base2:\n",
    "    pass\n",
    "\n",
    "\n",
    "class MultiderivacaoDireta(Base1, Base2):\n",
    "    pass"
   ],
   "outputs": [],
   "metadata": {}
  },
  {
   "cell_type": "code",
   "execution_count": 2,
   "source": [
    "# Exemplo 2 - Multiderivação indireta\n",
    "\n",
    "class Base1:\n",
    "    pass\n",
    "\n",
    "\n",
    "class Base2(Base1):\n",
    "    pass\n",
    "\n",
    "\n",
    "class Base3(Base2):\n",
    "    pass\n",
    "\n",
    "\n",
    "class MultiderivacaoIndireta(Base3):\n",
    "    pass\n",
    "\n",
    "# OBS: Não importa se a multiderivação é direta ou indireta, a classe\n",
    "# herdará todos os atributos e métodos de suas superclasses."
   ],
   "outputs": [],
   "metadata": {}
  },
  {
   "cell_type": "markdown",
   "source": [
    "## A seguir estarão alguns exemplos \"reais\" do uso da multiderivação"
   ],
   "metadata": {}
  },
  {
   "cell_type": "code",
   "execution_count": 3,
   "source": [
    "class Animal:\n",
    "    def __init__(self, nome):\n",
    "        self.__nome = nome\n",
    "    \n",
    "    def cumprimentar(self):\n",
    "        return f\"Eu sou {self.__nome}\"\n",
    "\n",
    "class Aquatico(Animal):\n",
    "    def __init__(self, nome):\n",
    "        super().__init__(nome)\n",
    "    \n",
    "    def nadar(self):\n",
    "        return f\"{self._Animal__nome} está nadando.\"\n",
    "    \n",
    "    def cumprimentar(self):\n",
    "        return f\"Eu sou {self._Animal__nome} do mar!\"\n",
    "\n",
    "class Terrestre(Animal):\n",
    "    def __init__(self, nome):\n",
    "        super().__init__(nome)\n",
    "    \n",
    "    def andar(self):\n",
    "        return f\"{self._Animal__nome} está andando.\"\n",
    "    \n",
    "    def cumprimentar(self):\n",
    "        return f\"Eu sou {self._Animal__nome} da terra!\"\n",
    "\n",
    "class Pinguim(Terrestre, Aquatico):\n",
    "    def __init__(self, nome):\n",
    "        super().__init__(nome)\n",
    "    \n",
    "# Testando\n",
    "baleia = Aquatico(\"Wally\")\n",
    "print(baleia.nadar())\n",
    "print(baleia.cumprimentar())\n",
    "\n",
    "tatu = Terrestre(\"Xim\")\n",
    "print(tatu.andar())\n",
    "print(tatu.cumprimentar())\n",
    "\n",
    "tux = Pinguim(\"Tux\")\n",
    "print(tux.andar())\n",
    "print(tux.nadar())\n",
    "\n",
    "# Aqui vem a dúvida:\n",
    "#   Qual vai ser o \".cumprimentar()\" que \"tux\" vai executar?\n",
    "print(tux.cumprimentar()) # O executado foi o \".cumprimentar()\" do terrestre, \n",
    "# que por causa do MRO (Method Resolution Order) foi sobrescrito duas vezes\n",
    "# e deixa como default o \".cumprimentar()\" da primeira classe que ele está herdando\n",
    "\n",
    "# OBS: A ordem de herança altera seu objeto\n"
   ],
   "outputs": [
    {
     "output_type": "stream",
     "name": "stdout",
     "text": [
      "Wally está nadando.\n",
      "Eu sou Wally do mar!\n",
      "Xim está andando.\n",
      "Eu sou Xim da terra!\n",
      "Tux está andando.\n",
      "Tux está nadando.\n",
      "Eu sou Tux da terra!\n"
     ]
    }
   ],
   "metadata": {}
  },
  {
   "cell_type": "markdown",
   "source": [
    "## Mas afinal, \"tux\" é instância de qual classe?\n",
    "---"
   ],
   "metadata": {}
  },
  {
   "cell_type": "code",
   "execution_count": 4,
   "source": [
    "# O que é \"isinstance()\"?\n",
    "# É uma função integrada do Python que permite verificar de qual\n",
    "# classe um objeto vem.\n",
    "\n",
    "print(isinstance(tux, Pinguim)) # tux é instância de Pinguim?\n",
    "print(isinstance(tux, Aquatico)) # tux é instância de Aquatico?\n",
    "print(isinstance(tux, Terrestre)) # tux é instância de Terrestre?\n",
    "print(isinstance(tux, Animal)) # tux é instância de Animal?\n",
    "print(isinstance(tux, object)) # tux é instância de object?"
   ],
   "outputs": [
    {
     "output_type": "stream",
     "name": "stdout",
     "text": [
      "True\n",
      "True\n",
      "True\n",
      "True\n"
     ]
    }
   ],
   "metadata": {}
  },
  {
   "cell_type": "markdown",
   "source": [
    "## Todas as alternativas dariam True, pois:\n",
    "- ## tux é uma instância direta de Pinguim\n",
    "- ## tux herda Aquatico por Pinguim\n",
    "- ## tux herda Terrestre por Pinguim\n",
    "- ## tux herda Animal por Aquatico e Terrestre\n",
    "- ## tux herda object como classe padrão"
   ],
   "metadata": {}
  }
 ],
 "metadata": {
  "orig_nbformat": 4,
  "language_info": {
   "name": "python",
   "version": "3.8.10",
   "mimetype": "text/x-python",
   "codemirror_mode": {
    "name": "ipython",
    "version": 3
   },
   "pygments_lexer": "ipython3",
   "nbconvert_exporter": "python",
   "file_extension": ".py"
  },
  "kernelspec": {
   "name": "python3",
   "display_name": "Python 3.8.10 64-bit"
  },
  "interpreter": {
   "hash": "31f2aee4e71d21fbe5cf8b01ff0e069b9275f58929596ceb00d14d90e3e16cd6"
  }
 },
 "nbformat": 4,
 "nbformat_minor": 2
}