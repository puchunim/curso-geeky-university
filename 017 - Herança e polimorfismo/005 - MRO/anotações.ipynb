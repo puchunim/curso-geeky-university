{
 "cells": [
  {
   "cell_type": "markdown",
   "source": [
    "# POO - Method Resolution Order (MRO)\n",
    "\n",
    "## `O fenômeno do Tux`\n",
    "## No arquivo anterior tivemos um \"problema\" com o método **.cumprimentar()** da classe Pinguim, quando aplicada na variável **tux**. O problema era que o método era sobrescrito de acordo com a classe que viesse primeiro, logo:\n"
   ],
   "metadata": {}
  },
  {
   "cell_type": "code",
   "execution_count": null,
   "source": [
    "class Pinguim(Terrestre, Aquatico):\n",
    "    def __init__(self, nome):\n",
    "        super().__init__(nome)\n",
    "\n",
    "tux = Pinguim(\"tux\")\n",
    "print(tux.cumprimentar())\n",
    "\n",
    "# Dessa forma, o que seria executado é: \"Eu sou Tux da terra!\""
   ],
   "outputs": [],
   "metadata": {}
  },
  {
   "cell_type": "code",
   "execution_count": null,
   "source": [
    "class Pinguim(Aquatico, Terrestre):\n",
    "    def __init__(self, nome):\n",
    "        super().__init__(nome)\n",
    "    \n",
    "tux = Pinguim(\"tux\")\n",
    "print(tux.cumprimentar())\n",
    "\n",
    "# Dessa forma, o que seria executado é: \"Eu sou Tux do mar!\""
   ],
   "outputs": [],
   "metadata": {}
  },
  {
   "cell_type": "markdown",
   "source": [
    "## Pra que não aconteça dos métodos conflitarem, o **Method Resolution Order** se encarrega de sobrepor os métodos de acordo com a \"sua importância\". O **MRO** é a regra que dita a execução dos métodos (quem será executado primeiro).\n",
    "\n",
    "## Em Python, podemos conferir a ordem de execução dos métodos de três formas:\n",
    "- ## Via propriedade da classe \\_\\_mro\\_\\_\n",
    "- ## Via método mro()\n",
    "- ## Via help()"
   ],
   "metadata": {}
  },
  {
   "cell_type": "code",
   "execution_count": null,
   "source": [
    "Pinguim.__mro__\n",
    "Pinguim.mro()\n",
    "help(Pinguim)"
   ],
   "outputs": [],
   "metadata": {}
  }
 ],
 "metadata": {
  "orig_nbformat": 4,
  "language_info": {
   "name": "python"
  }
 },
 "nbformat": 4,
 "nbformat_minor": 2
}