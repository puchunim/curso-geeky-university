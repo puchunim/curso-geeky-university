{
 "cells": [
  {
   "cell_type": "markdown",
   "source": [
    "# POO - Propriedades (Properties)\n",
    "\n",
    "### Em linguagens de programação como o Java, ao declararmos atributos privados nas classes, é normal que se crie métodos públicos para manipulação destes. Esses métodos são chamados de getters e setters."
   ],
   "metadata": {}
  },
  {
   "cell_type": "code",
   "execution_count": null,
   "source": [
    "# Exemplo de classe sem getters e setters\n",
    "class Conta:\n",
    "    \n",
    "    contador = 0\n",
    "    \n",
    "    def __init__(self, titular, saldo, limite):\n",
    "        # Definindo os atributos privados\n",
    "        self.__numero = Conta.contador + 1\n",
    "        self.__titular = titular\n",
    "        self.__saldo = saldo\n",
    "        self.__limite = limite\n",
    "        Conta.contador += 1\n",
    "    \n",
    "    def extrato(self):\n",
    "        return f\"Saldo de {self.__saldo} do cliente {self.__titular}\"\n",
    "    \n",
    "    def depositar(self, valor):\n",
    "        self.__saldo += valor\n",
    "        \n",
    "    def sacar(self, valor):\n",
    "        self.__saldo -= valor\n",
    "        \n",
    "    def transferir(self, valor, destino):\n",
    "        self.__saldo -= valor\n",
    "        destino.__saldo += valor"
   ],
   "outputs": [],
   "metadata": {}
  },
  {
   "cell_type": "markdown",
   "source": [
    "### A melhor forma para manipularmos dados de atributos (principalmente os privados) é usando `getters` e `setters`.\n",
    "\n",
    "### Getter = `Método que retorna um valor de um atributo`.\n",
    "### Setter = `Método que coloca um valor em um atributo`.\n"
   ],
   "metadata": {}
  },
  {
   "cell_type": "code",
   "execution_count": null,
   "source": [
    "# Exemplo de classe usando um getter e um setter\n",
    "class Produto:\n",
    "    def __init__(self, nome, marca):\n",
    "        self.__nome = nome\n",
    "        self.__marca = marca\n",
    "    \n",
    "    def get_nome(self):\n",
    "        return self.__nome\n",
    "    \n",
    "    def set_nome(self, nome):\n",
    "        self.__nome = nome "
   ],
   "outputs": [],
   "metadata": {}
  },
  {
   "cell_type": "markdown",
   "source": [
    "### O único problema é que essa forma de trabalho é geralmente muito usada em linguagens como Java ou C++, em Python podemos fazer melhor usando as `propriedades`."
   ],
   "metadata": {}
  },
  {
   "cell_type": "code",
   "execution_count": null,
   "source": [
    "# Exemplo de classe com getter usando `@property`\n",
    "class Pessoa:\n",
    "    def __init__(self, nome, cpf, rg):\n",
    "        self.__nome = nome\n",
    "        self.__cpf = cpf\n",
    "        self.__rg = rg\n",
    "    \n",
    "    @property\n",
    "    def nome(self):\n",
    "        return self.__nome\n",
    "    \n",
    "    @property\n",
    "    def cpf(self):\n",
    "        return self.__cpf\n",
    "    \n",
    "    @property\n",
    "    def rg(self):\n",
    "        return self.__rg\n",
    "\n",
    "pedro = Pessoa('Pedro Spezziale', 1234, 4321)\n",
    "print(pedro.cpf) # O acesso é feito normalmente como se fosse um atributo\n",
    "print(pedro.nome)\n"
   ],
   "outputs": [],
   "metadata": {}
  },
  {
   "cell_type": "code",
   "execution_count": null,
   "source": [
    "# Utilizando setters na classe acima\n",
    "class Pessoa:\n",
    "    def __init__(self, nome, cpf, rg):\n",
    "        self.__nome = nome\n",
    "        self.__cpf = cpf\n",
    "        self.__rg = rg\n",
    "    \n",
    "    @property\n",
    "    def nome(self):\n",
    "        return self.__nome\n",
    "    \n",
    "    @property\n",
    "    def cpf(self):\n",
    "        return self.__cpf\n",
    "    \n",
    "    @property\n",
    "    def rg(self):\n",
    "        return self.__rg\n",
    "    \n",
    "    @nome.setter\n",
    "    def nome(self, novo_nome):\n",
    "        self.__nome = novo_nome\n",
    "\n",
    "pedro = Pessoa('Pedro Spezziale', 1234, 4321)\n",
    "print(pedro.cpf) # O acesso é feito normalmente como se fosse um atributo\n",
    "print(pedro.nome)\n",
    "pedro.nome = 'Adalberto Ferreira'\n",
    "print(pedro.nome)"
   ],
   "outputs": [],
   "metadata": {}
  },
  {
   "cell_type": "markdown",
   "source": [
    "### NOTA PARA O PEDRINHO COM SONO:\n",
    "### `Propriedades nada mais são do que métodos que viram atributos. Sim, eles executam e te retornam o valor, assim você não precisa usar () na hora de executar.`"
   ],
   "metadata": {}
  }
 ],
 "metadata": {
  "orig_nbformat": 4,
  "language_info": {
   "name": "python",
   "version": "3.8.10",
   "mimetype": "text/x-python",
   "codemirror_mode": {
    "name": "ipython",
    "version": 3
   },
   "pygments_lexer": "ipython3",
   "nbconvert_exporter": "python",
   "file_extension": ".py"
  },
  "kernelspec": {
   "name": "python3",
   "display_name": "Python 3.8.10 64-bit"
  },
  "interpreter": {
   "hash": "916dbcbb3f70747c44a77c7bcd40155683ae19c65e1c03b4aa3499c5328201f1"
  }
 },
 "nbformat": 4,
 "nbformat_minor": 2
}