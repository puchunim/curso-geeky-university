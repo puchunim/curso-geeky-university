{
 "cells": [
  {
   "cell_type": "markdown",
   "source": [
    "# POO - Métodos mágicos\n",
    "\n",
    "## Métodos mágicos são todos os métodos que utilizam dunder (Double Underscore).\n",
    "## Exemplo: \"dunder init\" -> \\_\\_init\\__"
   ],
   "metadata": {}
  },
  {
   "cell_type": "code",
   "execution_count": 2,
   "source": [
    "class Livro:\n",
    "    def __init__(self, titulo, autor, paginas):\n",
    "        self.titulo = titulo\n",
    "        self.autor = autor\n",
    "        self.paginas = paginas\n",
    "\n",
    "livro = Livro(\"Eita preula! Versão definitiva\", \"O pica\", 300)\n",
    "livro2 = Livro(\"Adalberto Adventure\", \"Calçabob\", 250)\n",
    "\n",
    "print(livro) # <main__.Livro object at 0xMemória>\n",
    "print(livro2)"
   ],
   "outputs": [
    {
     "output_type": "stream",
     "name": "stdout",
     "text": [
      "<__main__.Livro object at 0x7f351afb7070>\n",
      "<__main__.Livro object at 0x7f351afb7100>\n"
     ]
    }
   ],
   "metadata": {}
  },
  {
   "cell_type": "markdown",
   "source": [
    "## Nesse caso, a saída dos livros é visualmente feia e inapresentável.. porém, podemos alterar nossos métodos mágicos para que consigamos uma saída de dados melhor."
   ],
   "metadata": {}
  },
  {
   "cell_type": "code",
   "execution_count": 3,
   "source": [
    "class Livro:\n",
    "    def __init__(self, titulo, autor, paginas):\n",
    "        self.titulo = titulo\n",
    "        self.autor = autor\n",
    "        self.paginas = paginas\n",
    "\n",
    "    def __repr__(self): # Método que define a representação do objeto\n",
    "        return self.titulo\n",
    "\n",
    "livro = Livro(\"Eita preula! Versão definitiva\", \"O pica\", 300)\n",
    "livro2 = Livro(\"Adalberto Adventure\", \"Calçabob\", 250)\n",
    "\n",
    "print(livro) # <main__.Livro object at 0xMemória>\n",
    "print(livro2)"
   ],
   "outputs": [
    {
     "output_type": "stream",
     "name": "stdout",
     "text": [
      "Eita preula! Versão definitiva\n",
      "Adalberto Adventure\n"
     ]
    }
   ],
   "metadata": {}
  },
  {
   "cell_type": "markdown",
   "source": [
    "# Mais métodos mágicos\n",
    "\n",
    "## **\\_\\_str\\_\\_** -> Dita o que vai acontecer com o objeto quando transformado em string.\n",
    "## **\\_\\_len\\_\\_** -> Dita o que vai acontecer quando a função len() for usada no objeto.\n",
    "## **\\_\\_del\\_\\_** -> Dita o que vai acontecer quando o objeto for deletado.\n",
    "## **\\_\\_add\\_\\_** -> Dita o que vai acontecer quando o objeto for somado.\n",
    "## **\\_\\_mul\\_\\_** -> Dita o que vai acontecer quadno o objeto for multiplicado.\n"
   ],
   "metadata": {}
  }
 ],
 "metadata": {
  "orig_nbformat": 4,
  "language_info": {
   "name": "python",
   "version": "3.8.10",
   "mimetype": "text/x-python",
   "codemirror_mode": {
    "name": "ipython",
    "version": 3
   },
   "pygments_lexer": "ipython3",
   "nbconvert_exporter": "python",
   "file_extension": ".py"
  },
  "kernelspec": {
   "name": "python3",
   "display_name": "Python 3.8.10 64-bit"
  },
  "interpreter": {
   "hash": "916dbcbb3f70747c44a77c7bcd40155683ae19c65e1c03b4aa3499c5328201f1"
  }
 },
 "nbformat": 4,
 "nbformat_minor": 2
}