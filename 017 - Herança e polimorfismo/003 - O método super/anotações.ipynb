{
 "cells": [
  {
   "cell_type": "markdown",
   "source": [
    "# POO - O método super()\n",
    "### Se refere à super classe. Podemos acessar os elementos da classe pai usando o método."
   ],
   "metadata": {}
  },
  {
   "cell_type": "code",
   "execution_count": null,
   "source": [
    "class Animal: # Classe pai\n",
    "    def __init__(self, nome, especie):\n",
    "        self.__nome = nome\n",
    "        self.__especie = especie\n",
    "\n",
    "    def faz_som(self, som):\n",
    "        print(f\"{self.__nome} faz {som}\")\n",
    "\n",
    "class Gato(Animal): # Classe filha\n",
    "    def __init__(self, nome, raca):\n",
    "        super().__init__(nome, \"Gato\") # Aqui está sendo executado o \"__init__\" de Animal,\n",
    "        # que seria equivalente a \"Animal.__init__(self, nome, especie)\"\n",
    "        self.__raca = raca\n",
    "\n",
    "gorda = Gato(\"Bugatinha\", \"Filhote-de-cruzcredo\")\n",
    "gorda.faz_som(\"miau\")"
   ],
   "outputs": [],
   "metadata": {}
  }
 ],
 "metadata": {
  "orig_nbformat": 4,
  "language_info": {
   "name": "python",
   "version": "3.8.10",
   "mimetype": "text/x-python",
   "codemirror_mode": {
    "name": "ipython",
    "version": 3
   },
   "pygments_lexer": "ipython3",
   "nbconvert_exporter": "python",
   "file_extension": ".py"
  },
  "kernelspec": {
   "name": "python3",
   "display_name": "Python 3.8.10 64-bit"
  },
  "interpreter": {
   "hash": "916dbcbb3f70747c44a77c7bcd40155683ae19c65e1c03b4aa3499c5328201f1"
  }
 },
 "nbformat": 4,
 "nbformat_minor": 2
}