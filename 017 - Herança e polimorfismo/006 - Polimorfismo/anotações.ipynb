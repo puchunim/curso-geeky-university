{
 "cells": [
  {
   "cell_type": "markdown",
   "source": [
    "# POO - Polimorfismo\n",
    "\n",
    "## Poli => Muitas\n",
    "## Morfis => Formas\n",
    "\n",
    "## Quando reimplementamos um método presente na classe pai em classes filhas, estamos realizando uma sobrescrita de método (Overriding).\n",
    "\n",
    "## O overriding é a excência do polimorfismo. Ou seja, todas as classes filhas podem se diferenciar sem que a excência da classe pai seja perdida."
   ],
   "metadata": {}
  },
  {
   "cell_type": "code",
   "execution_count": null,
   "source": [
    "class Animal(object):\n",
    "    def __init__(self, nome):\n",
    "        self.__nome = nome\n",
    "\n",
    "    def falar(self): # método não implementado\n",
    "        raise NotImplementedError('A classe filha precisa implementar este método')\n",
    "\n",
    "    def comer(self):\n",
    "        print(f\"{self.__nome} está comendo..\")\n",
    "\n",
    "class Cachorro(Animal):\n",
    "    def __init__(self, nome):\n",
    "        super().__init__(nome)\n",
    "    \n",
    "    def falar(self): # nesse caso, o método foi implementado e\n",
    "        print(f\"{self._Animal__nome} fala wau wau\")"
   ],
   "outputs": [],
   "metadata": {}
  }
 ],
 "metadata": {
  "orig_nbformat": 4,
  "language_info": {
   "name": "python"
  }
 },
 "nbformat": 4,
 "nbformat_minor": 2
}