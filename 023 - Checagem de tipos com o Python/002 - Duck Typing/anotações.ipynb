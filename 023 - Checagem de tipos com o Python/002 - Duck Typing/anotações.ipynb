{
 "cells": [
  {
   "cell_type": "markdown",
   "source": [
    "# Duck Typing (Tipagem Pato) 🦆"
   ],
   "metadata": {}
  },
  {
   "cell_type": "code",
   "execution_count": null,
   "source": [
    "class CisneNegro:\n",
    "\n",
    "    def __len__(self):\n",
    "        return 42\n",
    "\n",
    "sla = CisneNegro()\n",
    "nome = \"Geek\"\n",
    "lista [209312, 2103924, 23103]\n",
    "dicio = {\"carlos\" : 12}\n",
    "\n",
    "print(len(sla))\n",
    "print(len(nome))\n",
    "print(len(lista))\n",
    "print(len(dicio))\n",
    "\n",
    "# \"O tipo ou a classe do objeto é menos importante do que o tipo dos métodos\n",
    "# que o definem\""
   ],
   "outputs": [],
   "metadata": {}
  },
  {
   "cell_type": "markdown",
   "source": [
    "## Se um objeto parece um pato (🦆), anda como um pato (🦆), nada como um pato (🦆), ele provavelmente é um pato (🦆). Isso significa que, objetos parecidos provavelmente devem ter métodos e atributos parecidos, assim como <red style=\"color: red;\">tipos parecidos</red>."
   ],
   "metadata": {}
  }
 ],
 "metadata": {
  "orig_nbformat": 4,
  "language_info": {
   "name": "python"
  }
 },
 "nbformat": 4,
 "nbformat_minor": 2
}