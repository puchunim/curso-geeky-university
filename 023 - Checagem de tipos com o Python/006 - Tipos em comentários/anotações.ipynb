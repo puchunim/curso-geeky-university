{
 "cells": [
  {
   "cell_type": "markdown",
   "source": [
    "# Tipos em comentários"
   ],
   "metadata": {}
  },
  {
   "cell_type": "code",
   "execution_count": null,
   "source": [
    "def multi(txt):\n",
    "    # type: (str) -> str\n",
    "    return txt * 2\n",
    "\n",
    "# A mesma coisa das annotations podem ser colocada numa linha de comentário única\n",
    "\n",
    "def invertext(\n",
    "    txt # type: str\n",
    "): # type: (...) -> str\n",
    "    return txt[::-1]\n"
   ],
   "outputs": [],
   "metadata": {}
  }
 ],
 "metadata": {
  "orig_nbformat": 4,
  "language_info": {
   "name": "python"
  }
 },
 "nbformat": 4,
 "nbformat_minor": 2
}