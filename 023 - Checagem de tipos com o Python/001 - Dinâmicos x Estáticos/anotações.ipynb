{
 "cells": [
  {
   "cell_type": "markdown",
   "source": [
    "# Tipos de dados Dinâmico x Estático\n",
    "<style>\n",
    "    g {color: green;}\n",
    "</style>\n",
    "\n",
    "## Por padrão, o Python tem uma tipagem <g>dinâmica</g> e <g>implícita</g>, o que significa que se atribuirmos um dado a uma variável, ela já vai ser tratada como aquele tipo de dado, sem que seja necessário a atribuição do tipo à ela."
   ],
   "metadata": {}
  },
  {
   "cell_type": "code",
   "execution_count": null,
   "source": [
    "idade = 16 # Dado do tipo inteiro\n",
    "print(type(idade)) # <class 'int'>\n",
    "\n",
    "idade = \"16\" # A mesma variável passa a ser do tipo \"str\", por causa da atribuição dinâmica.\n",
    "print(type(idade)) # <class 'str'>"
   ],
   "outputs": [],
   "metadata": {}
  },
  {
   "cell_type": "markdown",
   "source": [
    "## Por conta disso, a checagem de dados só acontece durante a execução do código, e isso pode acarretar em problemas grandes."
   ],
   "metadata": {}
  },
  {
   "cell_type": "code",
   "execution_count": null,
   "source": [
    "z = True\n",
    "if z:\n",
    "    resultado = 1 + \"Geek\" # O erro só vai ser levantado quando executarmos\n",
    "\n",
    "else:\n",
    "    resultado = 1 + 2\n",
    "print(resultado)"
   ],
   "outputs": [],
   "metadata": {}
  }
 ],
 "metadata": {
  "orig_nbformat": 4,
  "language_info": {
   "name": "python"
  }
 },
 "nbformat": 4,
 "nbformat_minor": 2
}