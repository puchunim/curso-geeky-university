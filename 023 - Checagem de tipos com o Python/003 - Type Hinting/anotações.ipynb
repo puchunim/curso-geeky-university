{
 "cells": [
  {
   "cell_type": "markdown",
   "source": [
    "# Type Hinting (dicas de tipo)"
   ],
   "metadata": {}
  },
  {
   "cell_type": "code",
   "execution_count": null,
   "source": [
    "def cumprimentar(nome: str) -> str:\n",
    "    return f\"Olá, {nome}. Prazer em te ver!\"\n",
    "\n",
    "# \"nome\" vai ser do tipo str\n",
    "# o retorno \"->\" vai ser str"
   ],
   "outputs": [],
   "metadata": {}
  },
  {
   "cell_type": "markdown",
   "source": [
    "## DESAFIO: modificar a função \"cabecalho\" da aula usando Type Hinting"
   ],
   "metadata": {}
  },
  {
   "cell_type": "code",
   "execution_count": 2,
   "source": [
    "def header(txt: str, align: bool=True) -> str:\n",
    "    if align:\n",
    "        return f\"{txt.title()}\\n{'-' * len(txt)}\"\n",
    "    \n",
    "    else:\n",
    "        return f\" {txt.title()} \".center(50, '#')\n",
    "\n",
    "print(header(\"adalberto ferreira\"))\n",
    "print(header(\"adalberto ferreira\", align=False))"
   ],
   "outputs": [
    {
     "output_type": "stream",
     "name": "stdout",
     "text": [
      "Adalberto Ferreira\n",
      "------------------\n",
      "############### Adalberto Ferreira ###############\n"
     ]
    }
   ],
   "metadata": {}
  },
  {
   "cell_type": "markdown",
   "source": [
    "## DESAFIO: modificar a função \"cabecalho\" passada durante a aula usando type hinting"
   ],
   "metadata": {}
  }
 ],
 "metadata": {
  "orig_nbformat": 4,
  "language_info": {
   "name": "python",
   "version": "3.8.10",
   "mimetype": "text/x-python",
   "codemirror_mode": {
    "name": "ipython",
    "version": 3
   },
   "pygments_lexer": "ipython3",
   "nbconvert_exporter": "python",
   "file_extension": ".py"
  },
  "kernelspec": {
   "name": "python3",
   "display_name": "Python 3.8.10 64-bit"
  },
  "interpreter": {
   "hash": "31f2aee4e71d21fbe5cf8b01ff0e069b9275f58929596ceb00d14d90e3e16cd6"
  }
 },
 "nbformat": 4,
 "nbformat_minor": 2
}