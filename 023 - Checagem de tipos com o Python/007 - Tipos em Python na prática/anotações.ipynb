{
 "cells": [
  {
   "cell_type": "markdown",
   "source": [
    "# Tipos em Python na prática\n",
    "<style>\n",
    "    y {color: yellow;}\n",
    "</style>\n",
    "## Assim como os outros tipos primitivos do Python, os tipos <y>list</y>, <y>tuple</y>, <y>dict</y> e <y>set</y> também podem ser usados dentro das Annotations."
   ],
   "metadata": {}
  },
  {
   "cell_type": "code",
   "execution_count": null,
   "source": [
    "lista: list = [3, 1, \"3\"]\n",
    "tupla: tuple = (3, 1, \"3\")\n",
    "dicionario: dict = {1 : \"abc\", 2 : \"def\", 3 : \"ghi\"}\n",
    "conjunto: set = {3, 1, \"3\"}"
   ],
   "outputs": [],
   "metadata": {}
  },
  {
   "cell_type": "markdown",
   "source": [
    "## Porém, como no exemplo acima.. dessa forma não dá pra filtrar o tipo dos dados dentro dessas variáveis. É ai que o módulo <y style=\"color: yellow;\">typing</y> entra."
   ],
   "metadata": {}
  },
  {
   "cell_type": "code",
   "execution_count": null,
   "source": [
    "from typing import List, Tuple, Dict, Set\n",
    "\n",
    "nomes: List[str] = [\"João\", \"Adalberto\"] # Lista com nomes (strings)\n",
    "versoes: Tuple[int, str, int] = (3, \"3\", 7) # Tupla com versões (inteiro, string e inteiro)\n",
    "opc: Dict[str, bool] = {\"op1\" : True, \"op2\" : False} # Dicionário com opções (key=str, val=bool)\n",
    "valores: Set[int] = {3, 2, 5} # Conjunto de números (inteiros)"
   ],
   "outputs": [],
   "metadata": {}
  }
 ],
 "metadata": {
  "orig_nbformat": 4,
  "language_info": {
   "name": "python"
  }
 },
 "nbformat": 4,
 "nbformat_minor": 2
}