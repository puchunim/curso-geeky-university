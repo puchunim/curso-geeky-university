{
 "cells": [
  {
   "cell_type": "markdown",
   "source": [
    "# Fazendo uso de annotations\n",
    "\n",
    "## Annotations são as anotações usadas pelo type hinting e tem certas maneiras corretas e incorretas de usá-las."
   ],
   "metadata": {}
  },
  {
   "cell_type": "code",
   "execution_count": 3,
   "source": [
    "# Tipo da variável - correto\n",
    "texto: str = \"Pica\"\n",
    "\n",
    "# Saída da função/do método - correto\n",
    "# ) -> str:\n",
    "\n",
    "# Tipo de variável + valor - correto\n",
    "alinhamento: bool = True\n",
    "\n",
    "print(__annotations__) # Mostrando quais são as annotations usadas nas variáveis globais"
   ],
   "outputs": [
    {
     "output_type": "stream",
     "name": "stdout",
     "text": [
      "{'texto': <class 'str'>, 'alinhamento': <class 'bool'>}\n"
     ]
    }
   ],
   "metadata": {}
  }
 ],
 "metadata": {
  "orig_nbformat": 4,
  "language_info": {
   "name": "python",
   "version": "3.8.10",
   "mimetype": "text/x-python",
   "codemirror_mode": {
    "name": "ipython",
    "version": 3
   },
   "pygments_lexer": "ipython3",
   "nbconvert_exporter": "python",
   "file_extension": ".py"
  },
  "kernelspec": {
   "name": "python3",
   "display_name": "Python 3.8.10 64-bit"
  },
  "interpreter": {
   "hash": "31f2aee4e71d21fbe5cf8b01ff0e069b9275f58929596ceb00d14d90e3e16cd6"
  }
 },
 "nbformat": 4,
 "nbformat_minor": 2
}