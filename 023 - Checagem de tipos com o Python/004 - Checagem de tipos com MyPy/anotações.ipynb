{
 "cells": [
  {
   "cell_type": "markdown",
   "source": [
    "# Checagem de tipos com MyPy\n",
    "## <y style=\"color: yellow;\">pip3 install mypy</y>\n",
    "\n",
    "## Com o MyPy, podemos checar sem precisar da informação da IDE se o que estamos passando nos argumentos de uma função X realmente é do tipo esperado.\n",
    "## <y style=\"color: yellow;\">mypy arquivo.py</y>\n",
    "\n",
    "## # OBS: Não dá pra usar o mypy sem ter escrito o código com o type hinting\n"
   ],
   "metadata": {}
  }
 ],
 "metadata": {
  "orig_nbformat": 4,
  "language_info": {
   "name": "python"
  }
 },
 "nbformat": 4,
 "nbformat_minor": 2
}