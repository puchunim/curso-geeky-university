{
 "cells": [
  {
   "cell_type": "markdown",
   "metadata": {},
   "source": [
    "<style>h1 {color: yellow; text-shadow: 2px 2px black;}\n",
    "h3 {color: aquamarine; text-shadow: 2px 2px black;}\n",
    "</style>\n",
    "# JSON e Pickle\n",
    "### JSON -> `JavaScript Object Notation`"
   ]
  },
  {
   "cell_type": "code",
   "execution_count": null,
   "metadata": {},
   "outputs": [],
   "source": [
    "from jsonpickle import encode, decode\n",
    "\n",
    "class Gato:\n",
    "    def __init__(self, nome, raca, idade):\n",
    "        self.nome = nome\n",
    "        self.raca = raca\n",
    "        self.idade = idade\n",
    "\n",
    "    def __str__(self):\n",
    "        return f'{self.nome} é um {self.raca} e tem {self.idade} anos.'\n",
    "\n",
    "gato = Gato('Bruno', 'Vira-lata', 3)\n",
    "\n",
    "with open('gato.json', 'w') as arquivo:\n",
    "    arquivo.write(encode(gato)) # Escrevendo\n",
    "\n",
    "with open('gato.json', 'r') as arquivo:\n",
    "    gato_json = decode(arquivo.read()) # Lendo"
   ]
  }
 ],
 "metadata": {
  "language_info": {
   "name": "python"
  },
  "orig_nbformat": 4
 },
 "nbformat": 4,
 "nbformat_minor": 2
}
