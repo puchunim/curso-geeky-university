{
 "cells": [
  {
   "cell_type": "markdown",
   "metadata": {},
   "source": [
    "<style>h1 {color: yellow; text-shadow: 2px 2px black;}\n",
    "h3 {color: aquamarine; text-shadow: 2px 2px black;}\n",
    "</style>\n",
    "# Escrevendo em arquivos CSV\n",
    "\n",
    "### Assim como existe uma função para ler arquivos .csv (`reader()`), existe um para ler. Essa é a função `writer()`.\n",
    "\n",
    "### Utilizando writerow() podemos escrever uma linha no arquivo."
   ]
  },
  {
   "cell_type": "code",
   "execution_count": null,
   "metadata": {},
   "outputs": [],
   "source": [
    "from csv import writer\n",
    "\n",
    "with open(\"filmes.csv\", \"w\") as arquivo:\n",
    "    escritor = writer(arquivo)\n",
    "    escritor.writerow([\"Título\", \"Gênero\", \"Duração\", \"Classificação\"]) # Cabeçalho\n",
    "    while (filme := input(\"Digite o nome do filme: \")) != \"sair\":\n",
    "        genero = input(\"Digite o gênero: \")\n",
    "        duracao = input(\"Digite a duração: \")\n",
    "        classificacao = input(\"Digite a classificação: \")\n",
    "        escritor.writerow([filme, genero, duracao, classificacao])\n"
   ]
  },
  {
   "cell_type": "code",
   "execution_count": null,
   "metadata": {},
   "outputs": [],
   "source": [
    "from csv import DictWriter\n",
    "\n",
    "with open(\"filmes.csv\", \"w\") as arquivo:\n",
    "    escritor = DictWriter(arquivo, fieldnames=[\"Título\", \"Gênero\", \"Duração\", \"Classificação\"])\n",
    "    escritor.writeheader()\n",
    "    while (filme := input(\"Digite o nome do filme: \")) != \"sair\":\n",
    "        genero = input(\"Digite o gênero: \")\n",
    "        duracao = input(\"Digite a duração: \")\n",
    "        classificacao = input(\"Digite a classificação: \")\n",
    "        escritor.writerow({\"Título\": filme, \"Gênero\": genero, \"Duração\": duracao, \"Classificação\": classificacao})"
   ]
  }
 ],
 "metadata": {
  "interpreter": {
   "hash": "916dbcbb3f70747c44a77c7bcd40155683ae19c65e1c03b4aa3499c5328201f1"
  },
  "kernelspec": {
   "display_name": "Python 3.8.10 64-bit",
   "language": "python",
   "name": "python3"
  },
  "language_info": {
   "codemirror_mode": {
    "name": "ipython",
    "version": 3
   },
   "file_extension": ".py",
   "mimetype": "text/x-python",
   "name": "python",
   "nbconvert_exporter": "python",
   "pygments_lexer": "ipython3",
   "version": "3.8.10"
  },
  "orig_nbformat": 4
 },
 "nbformat": 4,
 "nbformat_minor": 2
}
