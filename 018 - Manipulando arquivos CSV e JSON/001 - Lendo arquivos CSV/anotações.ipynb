{
 "cells": [
  {
   "cell_type": "markdown",
   "metadata": {},
   "source": [
    "<style>h1 {color: yellow; text-shadow: 2px 2px black;}\n",
    "h3 {color: aquamarine; text-shadow: 2px 2px black;}\n",
    "</style>\n",
    "# Lendo arquivos .CSV\n",
    "## CSV - Comma Separated Values (Valores Separados por Vírgula) é um tipo de arquivo muito comum para exportar dados. É geralmente composto por colunas e linhas separadas por vírgulas, mas podem haver outros separadores também.\n",
    "\n",
    "### # Por vírgula\n",
    "### 1, 2, 3, 4, 5, ...\n",
    "\n",
    "### # Por ponto e vírgula\n",
    "### 1; 2; 3; 4; 5;\n",
    "\n",
    "### # Separador por espaço\n",
    "### 1 2 3 4 5"
   ]
  },
  {
   "cell_type": "code",
   "execution_count": 1,
   "metadata": {},
   "outputs": [
    {
     "name": "stdout",
     "output_type": "stream",
     "text": [
      "<class 'str'>\n",
      "['Altura (em cm)\\nRyu', 'Japão', '175\\nKen', 'EUA', '175\\nChun-Li', 'China', '165\\nGuile', 'EUA', '185\\nE. Honda', 'Japão', '185\\nDhalsim', 'Índia', '176\\nBlanka', 'Brasil', '192\\nZangief', 'Rússia', '214']\n"
     ]
    }
   ],
   "source": [
    "# Forma equivocada de ler um arquivo CSV\n",
    "with open(\"lutadores.csv\") as arquivo:\n",
    "    dados = arquivo.read()\n",
    "    print(type(dados))\n",
    "    dados = dados.split(\",\")[2:] # sem o cabeçalho\n",
    "    print(dados)\n"
   ]
  },
  {
   "cell_type": "code",
   "execution_count": 3,
   "metadata": {},
   "outputs": [
    {
     "name": "stdout",
     "output_type": "stream",
     "text": [
      "['Ryu', 'Japão', '175']\n",
      "['Ken', 'EUA', '175']\n",
      "['Chun-Li', 'China', '165']\n",
      "['Guile', 'EUA', '185']\n",
      "['E. Honda', 'Japão', '185']\n",
      "['Dhalsim', 'Índia', '176']\n",
      "['Blanka', 'Brasil', '192']\n",
      "['Zangief', 'Rússia', '214']\n",
      "\n",
      "\n",
      "\n",
      "{'Nome': 'Ryu', 'País': 'Japão', 'Altura (em cm)': '175'}\n",
      "{'Nome': 'Ken', 'País': 'EUA', 'Altura (em cm)': '175'}\n",
      "{'Nome': 'Chun-Li', 'País': 'China', 'Altura (em cm)': '165'}\n",
      "{'Nome': 'Guile', 'País': 'EUA', 'Altura (em cm)': '185'}\n",
      "{'Nome': 'E. Honda', 'País': 'Japão', 'Altura (em cm)': '185'}\n",
      "{'Nome': 'Dhalsim', 'País': 'Índia', 'Altura (em cm)': '176'}\n",
      "{'Nome': 'Blanka', 'País': 'Brasil', 'Altura (em cm)': '192'}\n",
      "{'Nome': 'Zangief', 'País': 'Rússia', 'Altura (em cm)': '214'}\n"
     ]
    }
   ],
   "source": [
    "# A linguagem Python possui duas formas de ler um arquivo CSV\n",
    "# - reader -> Permite que iteremos sobre as linhas do arquivo\n",
    "# - DictReader -> Permite que iteremos sobre as linhas do arquivo e que cada linha seja um dicionário\n",
    "\n",
    "from csv import reader, DictReader\n",
    "\n",
    "# Usando o reader\n",
    "with open(\"lutadores.csv\") as arquivo:\n",
    "    leitor_csv = reader(arquivo)\n",
    "    next(leitor_csv) # pulando o cabeçalho\n",
    "    for linha in leitor_csv:\n",
    "        print(linha)\n",
    "\n",
    "print(\"\\n\\n\")\n",
    "# Usando o DictReader\n",
    "with open(\"lutadores.csv\") as arquivo:\n",
    "    leitor_csv = DictReader(arquivo)\n",
    "    for linha in leitor_csv:\n",
    "        print(linha)"
   ]
  }
 ],
 "metadata": {
  "interpreter": {
   "hash": "916dbcbb3f70747c44a77c7bcd40155683ae19c65e1c03b4aa3499c5328201f1"
  },
  "kernelspec": {
   "display_name": "Python 3.9.7 64-bit",
   "language": "python",
   "name": "python3"
  },
  "language_info": {
   "codemirror_mode": {
    "name": "ipython",
    "version": 3
   },
   "file_extension": ".py",
   "mimetype": "text/x-python",
   "name": "python",
   "nbconvert_exporter": "python",
   "pygments_lexer": "ipython3",
   "version": "3.8.10"
  },
  "orig_nbformat": 4
 },
 "nbformat": 4,
 "nbformat_minor": 2
}
