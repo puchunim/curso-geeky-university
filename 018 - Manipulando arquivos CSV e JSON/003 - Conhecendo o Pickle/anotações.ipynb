{
 "cells": [
  {
   "cell_type": "markdown",
   "source": [
    "# Conhecendo o `Pickle`\n",
    "\n",
    "## A função do Pickle é realizar o processo:\n",
    "## `Objeto Python -> Binzarização`\n",
    "## ou\n",
    "## `Binarização -> Objeto Python`\n",
    "\n",
    "## Esse processo recebe o nome de serialização e deserialização.\n",
    "## OBS: O módulo Pickle não é seguro contra dados maliciosos, isso significa que é preciso ter cuidado quando estiver mexendo com dados vindos de outras pessoas."
   ],
   "metadata": {}
  },
  {
   "cell_type": "code",
   "execution_count": 1,
   "source": [
    "class ClasseQualquer: # Criando classe qualquer\n",
    "    def __init__(self, dado):\n",
    "        self.__dado = dado\n",
    "    \n",
    "    def z(self):\n",
    "        print(self.__dado)\n",
    "\n",
    "var = ClasseQualquer(\"meu nome é Pedro\")"
   ],
   "outputs": [],
   "metadata": {}
  },
  {
   "cell_type": "code",
   "execution_count": null,
   "source": [
    "import pickle # Importando a biblioteca\n",
    "\n",
    "# Escrevendo num arquivo .pickle\n",
    "with open(\"arquivo.pickle\", \"wb\") as f: # Criando/abrindo um arquivo no modo de escrita de bytes\n",
    "    pickle.dump(var, f) # Colocando as informações no arquivo"
   ],
   "outputs": [],
   "metadata": {}
  },
  {
   "cell_type": "code",
   "execution_count": 2,
   "source": [
    "import pickle # Importando a biblioteca\n",
    "\n",
    "# Lendo o conteúdo de um arquivo .pickle\n",
    "with open(\"arquivo.pickle\", \"rb\") as f: # Abrindo um arquivo no modo de leitura de bytes\n",
    "    pickle_var = pickle.load(f) # Lendo o arquivo\n",
    "    pickle_var.z()\n"
   ],
   "outputs": [
    {
     "output_type": "stream",
     "name": "stdout",
     "text": [
      "meu nome é Pedro\n"
     ]
    }
   ],
   "metadata": {}
  }
 ],
 "metadata": {
  "orig_nbformat": 4,
  "language_info": {
   "name": "python",
   "version": "3.8.10",
   "mimetype": "text/x-python",
   "codemirror_mode": {
    "name": "ipython",
    "version": 3
   },
   "pygments_lexer": "ipython3",
   "nbconvert_exporter": "python",
   "file_extension": ".py"
  },
  "kernelspec": {
   "name": "python3",
   "display_name": "Python 3.8.10 64-bit"
  },
  "interpreter": {
   "hash": "916dbcbb3f70747c44a77c7bcd40155683ae19c65e1c03b4aa3499c5328201f1"
  }
 },
 "nbformat": 4,
 "nbformat_minor": 2
}